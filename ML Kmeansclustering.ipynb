{
 "cells": [
  {
   "cell_type": "code",
   "execution_count": null,
   "id": "08e68fa0-0090-46c0-8c29-5949e9988424",
   "metadata": {},
   "outputs": [],
   "source": [
    "import pandas as pd\n",
    "\n",
    "df = pd.read_csv('sales_data_sample.csv',encoding='latin1')\n",
    "\n",
    "df.head()\n",
    "df.info()\n",
    "\n",
    "df = df.drop(columns=['ORDERNUMBER','ORDERDATE','ADDRESSLINE1','ADDRESSLINE2','CONTACTLASTNAME','CONTACTFIRSTNAME','CUSTOMERNAME','PHONE'])\n",
    "\n",
    "df\n",
    "\n",
    "df.isnull().sum()\n",
    "\n",
    "df.drop(columns=['STATE','POSTALCODE','TERRITORY','QTR_ID','MONTH_ID'],inplace=True)\n",
    "\n",
    "df\n",
    "\n",
    "df.duplicated().sum()\n",
    "\n",
    "from sklearn.preprocessing import LabelEncoder\n",
    "en = LabelEncoder()\n",
    "\n",
    "df['STATUS'] = en.fit_transform(df['STATUS'])\n",
    "df['PRODUCTLINE'] = en.fit_transform(df['PRODUCTLINE'])\n",
    "df['PRODUCTCODE'] = en.fit_transform(df['PRODUCTCODE'])\n",
    "df['CITY'] = en.fit_transform(df['CITY'])\n",
    "df['COUNTRY'] = en.fit_transform(df['COUNTRY'])\n",
    "df['DEALSIZE'] = en.fit_transform(df['DEALSIZE'])\n",
    "\n",
    "df.head()\n",
    "\n",
    "from sklearn.cluster import KMeans\n",
    "wcss = []\n",
    "for i in range(1,21):\n",
    "    km = KMeans(n_clusters=i)\n",
    "    km.fit_predict(df)\n",
    "    wcss.append(km.inertia_)\n",
    "\n",
    "wcss\n",
    "\n",
    "import matplotlib.pyplot as plt\n",
    "\n",
    "plt.plot(wcss)\n",
    "\n",
    "km = KMeans(n_clusters=4)\n",
    "pred = km.fit_predict(df)\n",
    "\n",
    "df['label'] = pred\n",
    "\n",
    "df.head()"
   ]
  }
 ],
 "metadata": {
  "kernelspec": {
   "display_name": "Python 3 (ipykernel)",
   "language": "python",
   "name": "python3"
  },
  "language_info": {
   "codemirror_mode": {
    "name": "ipython",
    "version": 3
   },
   "file_extension": ".py",
   "mimetype": "text/x-python",
   "name": "python",
   "nbconvert_exporter": "python",
   "pygments_lexer": "ipython3",
   "version": "3.12.3"
  }
 },
 "nbformat": 4,
 "nbformat_minor": 5
}
