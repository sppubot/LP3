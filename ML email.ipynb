{
 "cells": [
  {
   "cell_type": "code",
   "execution_count": null,
   "metadata": {},
   "outputs": [],
   "source": [
    "import pandas as pd\n",
    "\n",
    "df = pd.read_csv('emails.csv')\n",
    "df.info()\n",
    "df\n",
    "df.duplicated().sum()\n",
    "df = df.dropna()\n",
    "df['Prediction'].value_counts()\n",
    "\n",
    "from nltk.corpus import stopwords\n",
    "st_words = stopwords.words('english')\n",
    "df = df[[word for word in df.columns if word.lower() not in st_words]]  # removed stop words\n",
    "df\n",
    "\n",
    "df = df.drop(columns = ['Email No.'])\n",
    "\n",
    "x = df.drop(columns = ['Prediction'])\n",
    "y = df['Prediction']\n",
    "\n",
    "from sklearn.model_selection import train_test_split\n",
    "x_train, x_test, y_train, y_test = train_test_split(x, y, test_size=0.2, random_state=42)\n",
    "\n",
    "from sklearn.neighbors import KNeighborsClassifier\n",
    "from sklearn.svm import SVC\n",
    "\n",
    "knn = KNeighborsClassifier()\n",
    "knn.fit(x_train, y_train)\n",
    "pred = knn.predict(x_test)\n",
    "\n",
    "from sklearn.metrics import accuracy_score, confusion_matrix, precision_score, recall_score, f1_score\n",
    "print('Accuracy score : ', accuracy_score(y_test, pred))\n",
    "print('Precison score : ', precision_score(y_test, pred))\n",
    "print('F1 score : ', f1_score(y_test, pred))\n",
    "confusion_matrix(y_test, pred)\n",
    "\n",
    "svc = SVC()\n",
    "svc.fit(x_train, y_train)\n",
    "pred = svc.predict(x_test)\n",
    "\n",
    "print('Accuracy score : ', accuracy_score(y_test, pred))\n",
    "print('Precison score : ', precision_score(y_test, pred))\n",
    "print('F1 score : ', f1_score(y_test, pred))\n",
    "confusion_matrix(y_test, pred)\n",
    "\n",
    "y_test.value_counts()\n"
   ]
  }
 ],
 "metadata": {
  "language_info": {
   "name": "python"
  }
 },
 "nbformat": 4,
 "nbformat_minor": 2
}
